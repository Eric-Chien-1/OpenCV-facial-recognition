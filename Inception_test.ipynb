{
 "metadata": {
  "language_info": {
   "codemirror_mode": {
    "name": "ipython",
    "version": 3
   },
   "file_extension": ".py",
   "mimetype": "text/x-python",
   "name": "python",
   "nbconvert_exporter": "python",
   "pygments_lexer": "ipython3",
   "version": "3.8.5"
  },
  "orig_nbformat": 2,
  "kernelspec": {
   "name": "python385jvsc74a57bd057e9cea5df47b3008c1b89b5af35acf4e27db09a7fa0e098588126aeab119cca",
   "display_name": "Python 3.8.5 64-bit (conda)"
  }
 },
 "nbformat": 4,
 "nbformat_minor": 2,
 "cells": [
  {
   "cell_type": "code",
   "execution_count": 37,
   "metadata": {},
   "outputs": [],
   "source": [
    "import os\n",
    "import pandas as pd\n",
    "import numpy as np  \n",
    "import cv2\n",
    "from sklearn.model_selection import StratifiedShuffleSplit\n",
    "import os \n",
    "import pickle\n",
    "import tensorflow as tf\n",
    "import numpy as np\n",
    "import time\n",
    "from tensorflow import keras\n",
    "from tensorflow.keras.optimizers import RMSprop\n",
    "from tensorflow.keras.callbacks import TensorBoard\n",
    "from tensorflow.keras import layers\n",
    "from tensorflow.keras import Model\n",
    "from tensorflow.keras.applications.inception_v3 import InceptionV3\n",
    "from tensorflow.keras.preprocessing import image"
   ]
  },
  {
   "cell_type": "code",
   "execution_count": 38,
   "metadata": {},
   "outputs": [],
   "source": [
    "root_ = \"D:/desktop/Code/Python/UndergradProject/EricData/Dataset\"\n",
    "CATEGORIES= ['with_mask', 'without_mask']\n",
    "images = []\n",
    "images_with_labels=[]\n",
    "\n",
    "for category in CATEGORIES:\n",
    "    folder_path = os.path.join(root_, category)\n",
    "    img_names = os.listdir(folder_path)\n",
    "    \n",
    "    for img_name in img_names:\n",
    "        im_path = os.path.join(folder_path,img_name)\n",
    "        img = cv2.imread(im_path)\n",
    "        \n",
    "        resize = cv2.resize(img,(300,300))\n",
    "        images.append(resize)\n",
    "        \n",
    "        fullstring = folder_path\n",
    "        substring = 'without_mask'\n",
    "        \n",
    "        if substring in fullstring:\n",
    "            images_with_labels.append(0)\n",
    "        else:\n",
    "            images_with_labels.append(1)\n",
    "            \n",
    "images = np.array(images)"
   ]
  },
  {
   "cell_type": "code",
   "execution_count": 39,
   "metadata": {},
   "outputs": [],
   "source": [
    "y = np.reshape(images_with_labels, (len(images_with_labels), 1))"
   ]
  },
  {
   "cell_type": "code",
   "execution_count": 40,
   "metadata": {},
   "outputs": [],
   "source": [
    "split = StratifiedShuffleSplit(test_size=0.2, random_state=42)\n",
    "\n",
    "for train_index, test_index in split.split(images, images_with_labels):\n",
    "    X_train, y_train = images[train_index], y[train_index]\n",
    "    X_test, y_test = images[test_index], y[test_index]"
   ]
  },
  {
   "cell_type": "code",
   "execution_count": 42,
   "metadata": {},
   "outputs": [
    {
     "output_type": "execute_result",
     "data": {
      "text/plain": [
       "((8833, 300, 300, 3), (2209, 300, 300, 3))"
      ]
     },
     "metadata": {},
     "execution_count": 42
    }
   ],
   "source": [
    "X_train.shape, X_test.shape"
   ]
  },
  {
   "cell_type": "code",
   "execution_count": 43,
   "metadata": {},
   "outputs": [
    {
     "output_type": "execute_result",
     "data": {
      "text/plain": [
       "((8833, 1), (2209, 1))"
      ]
     },
     "metadata": {},
     "execution_count": 43
    }
   ],
   "source": [
    "y_train.shape, y_test.shape"
   ]
  },
  {
   "cell_type": "code",
   "execution_count": 44,
   "metadata": {},
   "outputs": [],
   "source": [
    "labels = y_train.reshape(-1)"
   ]
  },
  {
   "cell_type": "code",
   "execution_count": 45,
   "metadata": {},
   "outputs": [],
   "source": [
    "split = StratifiedShuffleSplit(test_size=0.1, random_state=42)\n",
    "\n",
    "for train_index, test_index in split.split(X_train,list(labels)):\n",
    "    X_train_, y_train_ = X_train[train_index], y_train[train_index]\n",
    "    X_val, y_val = X_train[test_index], y_train[test_index]"
   ]
  },
  {
   "cell_type": "code",
   "execution_count": 46,
   "metadata": {},
   "outputs": [
    {
     "output_type": "execute_result",
     "data": {
      "text/plain": [
       "((7949, 300, 300, 3), (7949, 1))"
      ]
     },
     "metadata": {},
     "execution_count": 46
    }
   ],
   "source": [
    "X_train_.shape, y_train_.shape"
   ]
  },
  {
   "cell_type": "code",
   "execution_count": 47,
   "metadata": {},
   "outputs": [
    {
     "output_type": "execute_result",
     "data": {
      "text/plain": [
       "((884, 300, 300, 3), (884, 1))"
      ]
     },
     "metadata": {},
     "execution_count": 47
    }
   ],
   "source": [
    "X_val.shape, y_val.shape"
   ]
  },
  {
   "cell_type": "code",
   "execution_count": 48,
   "metadata": {},
   "outputs": [],
   "source": [
    "pre_trained_model = InceptionV3(input_shape=(300, 300, 3), include_top=False, weights='imagenet')"
   ]
  },
  {
   "cell_type": "code",
   "execution_count": 50,
   "metadata": {
    "tags": [
     "outputPrepend"
    ]
   },
   "outputs": [
    {
     "output_type": "stream",
     "name": "stdout",
     "text": [
      "][0]             \n__________________________________________________________________________________________________\nconv2d_351 (Conv2D)             (None, 17, 17, 192)  147456      average_pooling2d_33[0][0]       \n__________________________________________________________________________________________________\nbatch_normalization_342 (BatchN (None, 17, 17, 192)  576         conv2d_342[0][0]                 \n__________________________________________________________________________________________________\nbatch_normalization_345 (BatchN (None, 17, 17, 192)  576         conv2d_345[0][0]                 \n__________________________________________________________________________________________________\nbatch_normalization_350 (BatchN (None, 17, 17, 192)  576         conv2d_350[0][0]                 \n__________________________________________________________________________________________________\nbatch_normalization_351 (BatchN (None, 17, 17, 192)  576         conv2d_351[0][0]                 \n__________________________________________________________________________________________________\nactivation_342 (Activation)     (None, 17, 17, 192)  0           batch_normalization_342[0][0]    \n__________________________________________________________________________________________________\nactivation_345 (Activation)     (None, 17, 17, 192)  0           batch_normalization_345[0][0]    \n__________________________________________________________________________________________________\nactivation_350 (Activation)     (None, 17, 17, 192)  0           batch_normalization_350[0][0]    \n__________________________________________________________________________________________________\nactivation_351 (Activation)     (None, 17, 17, 192)  0           batch_normalization_351[0][0]    \n__________________________________________________________________________________________________\nmixed7 (Concatenate)            (None, 17, 17, 768)  0           activation_342[0][0]             \n                                                                 activation_345[0][0]             \n                                                                 activation_350[0][0]             \n                                                                 activation_351[0][0]             \n__________________________________________________________________________________________________\nconv2d_354 (Conv2D)             (None, 17, 17, 192)  147456      mixed7[0][0]                     \n__________________________________________________________________________________________________\nbatch_normalization_354 (BatchN (None, 17, 17, 192)  576         conv2d_354[0][0]                 \n__________________________________________________________________________________________________\nactivation_354 (Activation)     (None, 17, 17, 192)  0           batch_normalization_354[0][0]    \n__________________________________________________________________________________________________\nconv2d_355 (Conv2D)             (None, 17, 17, 192)  258048      activation_354[0][0]             \n__________________________________________________________________________________________________\nbatch_normalization_355 (BatchN (None, 17, 17, 192)  576         conv2d_355[0][0]                 \n__________________________________________________________________________________________________\nactivation_355 (Activation)     (None, 17, 17, 192)  0           batch_normalization_355[0][0]    \n__________________________________________________________________________________________________\nconv2d_352 (Conv2D)             (None, 17, 17, 192)  147456      mixed7[0][0]                     \n__________________________________________________________________________________________________\nconv2d_356 (Conv2D)             (None, 17, 17, 192)  258048      activation_355[0][0]             \n__________________________________________________________________________________________________\nbatch_normalization_352 (BatchN (None, 17, 17, 192)  576         conv2d_352[0][0]                 \n__________________________________________________________________________________________________\nbatch_normalization_356 (BatchN (None, 17, 17, 192)  576         conv2d_356[0][0]                 \n__________________________________________________________________________________________________\nactivation_352 (Activation)     (None, 17, 17, 192)  0           batch_normalization_352[0][0]    \n__________________________________________________________________________________________________\nactivation_356 (Activation)     (None, 17, 17, 192)  0           batch_normalization_356[0][0]    \n__________________________________________________________________________________________________\nconv2d_353 (Conv2D)             (None, 8, 8, 320)    552960      activation_352[0][0]             \n__________________________________________________________________________________________________\nconv2d_357 (Conv2D)             (None, 8, 8, 192)    331776      activation_356[0][0]             \n__________________________________________________________________________________________________\nbatch_normalization_353 (BatchN (None, 8, 8, 320)    960         conv2d_353[0][0]                 \n__________________________________________________________________________________________________\nbatch_normalization_357 (BatchN (None, 8, 8, 192)    576         conv2d_357[0][0]                 \n__________________________________________________________________________________________________\nactivation_353 (Activation)     (None, 8, 8, 320)    0           batch_normalization_353[0][0]    \n__________________________________________________________________________________________________\nactivation_357 (Activation)     (None, 8, 8, 192)    0           batch_normalization_357[0][0]    \n__________________________________________________________________________________________________\nmax_pooling2d_15 (MaxPooling2D) (None, 8, 8, 768)    0           mixed7[0][0]                     \n__________________________________________________________________________________________________\nmixed8 (Concatenate)            (None, 8, 8, 1280)   0           activation_353[0][0]             \n                                                                 activation_357[0][0]             \n                                                                 max_pooling2d_15[0][0]           \n__________________________________________________________________________________________________\nconv2d_362 (Conv2D)             (None, 8, 8, 448)    573440      mixed8[0][0]                     \n__________________________________________________________________________________________________\nbatch_normalization_362 (BatchN (None, 8, 8, 448)    1344        conv2d_362[0][0]                 \n__________________________________________________________________________________________________\nactivation_362 (Activation)     (None, 8, 8, 448)    0           batch_normalization_362[0][0]    \n__________________________________________________________________________________________________\nconv2d_359 (Conv2D)             (None, 8, 8, 384)    491520      mixed8[0][0]                     \n__________________________________________________________________________________________________\nconv2d_363 (Conv2D)             (None, 8, 8, 384)    1548288     activation_362[0][0]             \n__________________________________________________________________________________________________\nbatch_normalization_359 (BatchN (None, 8, 8, 384)    1152        conv2d_359[0][0]                 \n__________________________________________________________________________________________________\nbatch_normalization_363 (BatchN (None, 8, 8, 384)    1152        conv2d_363[0][0]                 \n__________________________________________________________________________________________________\nactivation_359 (Activation)     (None, 8, 8, 384)    0           batch_normalization_359[0][0]    \n__________________________________________________________________________________________________\nactivation_363 (Activation)     (None, 8, 8, 384)    0           batch_normalization_363[0][0]    \n__________________________________________________________________________________________________\nconv2d_360 (Conv2D)             (None, 8, 8, 384)    442368      activation_359[0][0]             \n__________________________________________________________________________________________________\nconv2d_361 (Conv2D)             (None, 8, 8, 384)    442368      activation_359[0][0]             \n__________________________________________________________________________________________________\nconv2d_364 (Conv2D)             (None, 8, 8, 384)    442368      activation_363[0][0]             \n__________________________________________________________________________________________________\nconv2d_365 (Conv2D)             (None, 8, 8, 384)    442368      activation_363[0][0]             \n__________________________________________________________________________________________________\naverage_pooling2d_34 (AveragePo (None, 8, 8, 1280)   0           mixed8[0][0]                     \n__________________________________________________________________________________________________\nconv2d_358 (Conv2D)             (None, 8, 8, 320)    409600      mixed8[0][0]                     \n__________________________________________________________________________________________________\nbatch_normalization_360 (BatchN (None, 8, 8, 384)    1152        conv2d_360[0][0]                 \n__________________________________________________________________________________________________\nbatch_normalization_361 (BatchN (None, 8, 8, 384)    1152        conv2d_361[0][0]                 \n__________________________________________________________________________________________________\nbatch_normalization_364 (BatchN (None, 8, 8, 384)    1152        conv2d_364[0][0]                 \n__________________________________________________________________________________________________\nbatch_normalization_365 (BatchN (None, 8, 8, 384)    1152        conv2d_365[0][0]                 \n__________________________________________________________________________________________________\nconv2d_366 (Conv2D)             (None, 8, 8, 192)    245760      average_pooling2d_34[0][0]       \n__________________________________________________________________________________________________\nbatch_normalization_358 (BatchN (None, 8, 8, 320)    960         conv2d_358[0][0]                 \n__________________________________________________________________________________________________\nactivation_360 (Activation)     (None, 8, 8, 384)    0           batch_normalization_360[0][0]    \n__________________________________________________________________________________________________\nactivation_361 (Activation)     (None, 8, 8, 384)    0           batch_normalization_361[0][0]    \n__________________________________________________________________________________________________\nactivation_364 (Activation)     (None, 8, 8, 384)    0           batch_normalization_364[0][0]    \n__________________________________________________________________________________________________\nactivation_365 (Activation)     (None, 8, 8, 384)    0           batch_normalization_365[0][0]    \n__________________________________________________________________________________________________\nbatch_normalization_366 (BatchN (None, 8, 8, 192)    576         conv2d_366[0][0]                 \n__________________________________________________________________________________________________\nactivation_358 (Activation)     (None, 8, 8, 320)    0           batch_normalization_358[0][0]    \n__________________________________________________________________________________________________\nmixed9_0 (Concatenate)          (None, 8, 8, 768)    0           activation_360[0][0]             \n                                                                 activation_361[0][0]             \n__________________________________________________________________________________________________\nconcatenate_6 (Concatenate)     (None, 8, 8, 768)    0           activation_364[0][0]             \n                                                                 activation_365[0][0]             \n__________________________________________________________________________________________________\nactivation_366 (Activation)     (None, 8, 8, 192)    0           batch_normalization_366[0][0]    \n__________________________________________________________________________________________________\nmixed9 (Concatenate)            (None, 8, 8, 2048)   0           activation_358[0][0]             \n                                                                 mixed9_0[0][0]                   \n                                                                 concatenate_6[0][0]              \n                                                                 activation_366[0][0]             \n__________________________________________________________________________________________________\nconv2d_371 (Conv2D)             (None, 8, 8, 448)    917504      mixed9[0][0]                     \n__________________________________________________________________________________________________\nbatch_normalization_371 (BatchN (None, 8, 8, 448)    1344        conv2d_371[0][0]                 \n__________________________________________________________________________________________________\nactivation_371 (Activation)     (None, 8, 8, 448)    0           batch_normalization_371[0][0]    \n__________________________________________________________________________________________________\nconv2d_368 (Conv2D)             (None, 8, 8, 384)    786432      mixed9[0][0]                     \n__________________________________________________________________________________________________\nconv2d_372 (Conv2D)             (None, 8, 8, 384)    1548288     activation_371[0][0]             \n__________________________________________________________________________________________________\nbatch_normalization_368 (BatchN (None, 8, 8, 384)    1152        conv2d_368[0][0]                 \n__________________________________________________________________________________________________\nbatch_normalization_372 (BatchN (None, 8, 8, 384)    1152        conv2d_372[0][0]                 \n__________________________________________________________________________________________________\nactivation_368 (Activation)     (None, 8, 8, 384)    0           batch_normalization_368[0][0]    \n__________________________________________________________________________________________________\nactivation_372 (Activation)     (None, 8, 8, 384)    0           batch_normalization_372[0][0]    \n__________________________________________________________________________________________________\nconv2d_369 (Conv2D)             (None, 8, 8, 384)    442368      activation_368[0][0]             \n__________________________________________________________________________________________________\nconv2d_370 (Conv2D)             (None, 8, 8, 384)    442368      activation_368[0][0]             \n__________________________________________________________________________________________________\nconv2d_373 (Conv2D)             (None, 8, 8, 384)    442368      activation_372[0][0]             \n__________________________________________________________________________________________________\nconv2d_374 (Conv2D)             (None, 8, 8, 384)    442368      activation_372[0][0]             \n__________________________________________________________________________________________________\naverage_pooling2d_35 (AveragePo (None, 8, 8, 2048)   0           mixed9[0][0]                     \n__________________________________________________________________________________________________\nconv2d_367 (Conv2D)             (None, 8, 8, 320)    655360      mixed9[0][0]                     \n__________________________________________________________________________________________________\nbatch_normalization_369 (BatchN (None, 8, 8, 384)    1152        conv2d_369[0][0]                 \n__________________________________________________________________________________________________\nbatch_normalization_370 (BatchN (None, 8, 8, 384)    1152        conv2d_370[0][0]                 \n__________________________________________________________________________________________________\nbatch_normalization_373 (BatchN (None, 8, 8, 384)    1152        conv2d_373[0][0]                 \n__________________________________________________________________________________________________\nbatch_normalization_374 (BatchN (None, 8, 8, 384)    1152        conv2d_374[0][0]                 \n__________________________________________________________________________________________________\nconv2d_375 (Conv2D)             (None, 8, 8, 192)    393216      average_pooling2d_35[0][0]       \n__________________________________________________________________________________________________\nbatch_normalization_367 (BatchN (None, 8, 8, 320)    960         conv2d_367[0][0]                 \n__________________________________________________________________________________________________\nactivation_369 (Activation)     (None, 8, 8, 384)    0           batch_normalization_369[0][0]    \n__________________________________________________________________________________________________\nactivation_370 (Activation)     (None, 8, 8, 384)    0           batch_normalization_370[0][0]    \n__________________________________________________________________________________________________\nactivation_373 (Activation)     (None, 8, 8, 384)    0           batch_normalization_373[0][0]    \n__________________________________________________________________________________________________\nactivation_374 (Activation)     (None, 8, 8, 384)    0           batch_normalization_374[0][0]    \n__________________________________________________________________________________________________\nbatch_normalization_375 (BatchN (None, 8, 8, 192)    576         conv2d_375[0][0]                 \n__________________________________________________________________________________________________\nactivation_367 (Activation)     (None, 8, 8, 320)    0           batch_normalization_367[0][0]    \n__________________________________________________________________________________________________\nmixed9_1 (Concatenate)          (None, 8, 8, 768)    0           activation_369[0][0]             \n                                                                 activation_370[0][0]             \n__________________________________________________________________________________________________\nconcatenate_7 (Concatenate)     (None, 8, 8, 768)    0           activation_373[0][0]             \n                                                                 activation_374[0][0]             \n__________________________________________________________________________________________________\nactivation_375 (Activation)     (None, 8, 8, 192)    0           batch_normalization_375[0][0]    \n__________________________________________________________________________________________________\nmixed10 (Concatenate)           (None, 8, 8, 2048)   0           activation_367[0][0]             \n                                                                 mixed9_1[0][0]                   \n                                                                 concatenate_7[0][0]              \n                                                                 activation_375[0][0]             \n==================================================================================================\nTotal params: 21,802,784\nTrainable params: 21,768,352\nNon-trainable params: 34,432\n__________________________________________________________________________________________________\n"
     ]
    }
   ],
   "source": [
    "pre_trained_model.summary()"
   ]
  },
  {
   "cell_type": "code",
   "execution_count": 51,
   "metadata": {},
   "outputs": [],
   "source": [
    "base_input = pre_trained_model.layers[0].input\n",
    "base_output = layers.Flatten()(pre_trained_model.layers[-12].output)"
   ]
  },
  {
   "cell_type": "code",
   "execution_count": 52,
   "metadata": {},
   "outputs": [],
   "source": [
    "\n",
    "final_output = layers.Dense(1, activation='sigmoid')(base_output)"
   ]
  },
  {
   "cell_type": "code",
   "execution_count": 53,
   "metadata": {},
   "outputs": [],
   "source": [
    "model = keras.Model(inputs=base_input, outputs=final_output)"
   ]
  },
  {
   "cell_type": "code",
   "execution_count": 54,
   "metadata": {},
   "outputs": [],
   "source": [
    "model.compile(optimizer = \"Adam\", \n",
    "              loss = 'binary_crossentropy', \n",
    "              metrics = ['acc'])"
   ]
  },
  {
   "cell_type": "code",
   "execution_count": 55,
   "metadata": {},
   "outputs": [
    {
     "output_type": "stream",
     "name": "stdout",
     "text": [
      "Epoch 1/3\n",
      "249/249 [==============================] - 115s 401ms/step - loss: 0.1962 - acc: 0.9439 - val_loss: 175.7260 - val_acc: 0.5577\n",
      "Epoch 2/3\n",
      "249/249 [==============================] - 95s 381ms/step - loss: 0.0976 - acc: 0.9734 - val_loss: 0.1516 - val_acc: 0.9649\n",
      "Epoch 3/3\n",
      "249/249 [==============================] - 95s 381ms/step - loss: 0.0415 - acc: 0.9867 - val_loss: 0.1113 - val_acc: 0.9785\n"
     ]
    },
    {
     "output_type": "execute_result",
     "data": {
      "text/plain": [
       "<tensorflow.python.keras.callbacks.History at 0x29b8fc5bdc0>"
      ]
     },
     "metadata": {},
     "execution_count": 55
    }
   ],
   "source": [
    "model.fit(\n",
    "    X_train_,\n",
    "    y_train_,\n",
    "    batch_size=32,\n",
    "    epochs = 3,\n",
    "    validation_data=(X_val, y_val))"
   ]
  },
  {
   "cell_type": "code",
   "execution_count": 56,
   "metadata": {},
   "outputs": [
    {
     "output_type": "stream",
     "name": "stdout",
     "text": [
      "70/70 [==============================] - 7s 103ms/step - loss: 0.0852 - acc: 0.9846\n"
     ]
    },
    {
     "output_type": "execute_result",
     "data": {
      "text/plain": [
       "[0.08515658229589462, 0.9846084117889404]"
      ]
     },
     "metadata": {},
     "execution_count": 56
    }
   ],
   "source": [
    "model.evaluate(X_test, y_test)"
   ]
  },
  {
   "cell_type": "code",
   "execution_count": 59,
   "metadata": {},
   "outputs": [
    {
     "output_type": "execute_result",
     "data": {
      "text/plain": [
       "(300, 300, 3)"
      ]
     },
     "metadata": {},
     "execution_count": 59
    }
   ],
   "source": [
    "X_test[0].shape"
   ]
  },
  {
   "cell_type": "code",
   "execution_count": 81,
   "metadata": {},
   "outputs": [
    {
     "output_type": "execute_result",
     "data": {
      "text/plain": [
       "array([[0.9980241]], dtype=float32)"
      ]
     },
     "metadata": {},
     "execution_count": 81
    }
   ],
   "source": [
    "model.predict(np.expand_dims(resize, axis=0))"
   ]
  },
  {
   "cell_type": "code",
   "execution_count": 62,
   "metadata": {},
   "outputs": [
    {
     "output_type": "execute_result",
     "data": {
      "text/plain": [
       "array([1])"
      ]
     },
     "metadata": {},
     "execution_count": 62
    }
   ],
   "source": [
    "y_test[0]"
   ]
  },
  {
   "cell_type": "code",
   "execution_count": 64,
   "metadata": {},
   "outputs": [
    {
     "output_type": "execute_result",
     "data": {
      "text/plain": [
       "array([0])"
      ]
     },
     "metadata": {},
     "execution_count": 64
    }
   ],
   "source": [
    "y_test[2]"
   ]
  },
  {
   "cell_type": "code",
   "execution_count": 80,
   "metadata": {},
   "outputs": [
    {
     "output_type": "stream",
     "name": "stdout",
     "text": [
      "(300, 300, 3)\n"
     ]
    }
   ],
   "source": [
    " TestImg = \"D:/desktop/12.jpg\"\n",
    " img = cv2.imread(TestImg)\n",
    " resize = cv2.resize(img,(300,300))\n",
    " print(resize.shape)"
   ]
  },
  {
   "cell_type": "code",
   "execution_count": null,
   "metadata": {},
   "outputs": [],
   "source": []
  }
 ]
}